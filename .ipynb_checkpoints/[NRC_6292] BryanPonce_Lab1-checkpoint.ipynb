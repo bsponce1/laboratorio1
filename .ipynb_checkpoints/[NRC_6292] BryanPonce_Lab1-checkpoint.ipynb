{
 "cells": [
  {
   "cell_type": "code",
   "execution_count": 3,
   "id": "8def9fc6",
   "metadata": {},
   "outputs": [],
   "source": [
    "\"\"\"Importación de las librerías\"\"\"\n",
    "\"\"\"Importación de los datasets de las libreías de la libreria Sklearn\"\"\"\n",
    "from sklearn import datasets \n",
    "\"\"\"Importación de la funcion de los modelos de selección que sirve para dividir matrices\"\"\"\n",
    "from sklearn.model_selection import train_test_split \n",
    "\"\"\"Importación de la librería para realizar la clasificación\"\"\"\n",
    "from sklearn import svm \n",
    "\"\"\"El módulo de métricas de la librería sklearn implementa varias funciones para monitorear el rendimiento de la clasificación\"\"\"\n",
    "from sklearn import metrics  "
   ]
  },
  {
   "cell_type": "code",
   "execution_count": null,
   "id": "8d2b4fbd",
   "metadata": {},
   "outputs": [],
   "source": [
    "dicc = datasets.load_diabetes() \n",
    "\"\"\"Cargamos el datasets\"\"\"\n",
    "\n",
    "dicc.keys()\n",
    "\"\"\"Devuelve el objeto de vista muestra la vista de todas las claves en el diccionario\"\"\"\n",
    "\n",
    "print(\"Features\", dicc.feature_names)\n",
    "\"\"\"Imprime las caracteristicas\"\"\"\n",
    "\n",
    "print(\"Shape:\\n\", dicc.data_filename)\n",
    "\"\"\"Imprime el nombre de los archivos\"\"\"\n",
    "\n",
    "print(\"Label:\\n\", dicc.target)\n",
    "\"\"\"Imprime la forma del diccionario\"\"\"\n",
    "\n",
    "print(\"Top five records\", dicc.data[0:5])\n",
    "\"\"\"Los cincos primeros datos\"\"\"\n",
    "\n",
    "print(\"Descripcion\", dicc.DESCR)\n",
    "\"\"\"Imprime los datos de la descr\"\"\"\n"
   ]
  }
 ],
 "metadata": {
  "kernelspec": {
   "display_name": "Python 3 (ipykernel)",
   "language": "python",
   "name": "python3"
  },
  "language_info": {
   "codemirror_mode": {
    "name": "ipython",
    "version": 3
   },
   "file_extension": ".py",
   "mimetype": "text/x-python",
   "name": "python",
   "nbconvert_exporter": "python",
   "pygments_lexer": "ipython3",
   "version": "3.9.12"
  }
 },
 "nbformat": 4,
 "nbformat_minor": 5
}
