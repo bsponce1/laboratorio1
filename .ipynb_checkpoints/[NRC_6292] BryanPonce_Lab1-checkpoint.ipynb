{
 "cells": [
  {
   "cell_type": "code",
   "execution_count": 1,
   "id": "5c178e58",
   "metadata": {},
   "outputs": [],
   "source": [
    "\"\"\"Importación de las librerías\"\"\"\n",
    "\"\"\"Importación de los datasets de las libreías de la libreria Sklearn\"\"\"\n",
    "from sklearn import datasets \n",
    "\"\"\"Importación de la funcion de los modelos de selección que sirve para dividir matrices\"\"\"\n",
    "from sklearn.model_selection import train_test_split \n",
    "\"\"\"Importación de la librería para realizar la clasificación\"\"\"\n",
    "from sklearn import svm \n",
    "\"\"\"El módulo de métricas de la librería sklearn implementa varias funciones para monitorear el rendimiento de la clasificación\"\"\"\n",
    "from sklearn import metrics  "
   ]
  },
  {
   "cell_type": "code",
   "execution_count": null,
   "id": "a8f3c4b0",
   "metadata": {},
   "outputs": [],
   "source": []
  }
 ],
 "metadata": {
  "kernelspec": {
   "display_name": "Python 3 (ipykernel)",
   "language": "python",
   "name": "python3"
  },
  "language_info": {
   "codemirror_mode": {
    "name": "ipython",
    "version": 3
   },
   "file_extension": ".py",
   "mimetype": "text/x-python",
   "name": "python",
   "nbconvert_exporter": "python",
   "pygments_lexer": "ipython3",
   "version": "3.9.12"
  }
 },
 "nbformat": 4,
 "nbformat_minor": 5
}
